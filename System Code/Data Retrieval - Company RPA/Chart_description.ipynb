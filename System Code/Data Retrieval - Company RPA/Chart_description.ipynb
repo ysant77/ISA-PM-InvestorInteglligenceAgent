{
 "cells": [
  {
   "cell_type": "markdown",
   "id": "9d484685",
   "metadata": {},
   "source": [
    "### Read chart image to interpret trend lines within"
   ]
  },
  {
   "cell_type": "markdown",
   "id": "3e464ec9",
   "metadata": {},
   "source": [
    "### using OpenCV"
   ]
  },
  {
   "cell_type": "code",
   "execution_count": 1,
   "id": "7592de85",
   "metadata": {},
   "outputs": [],
   "source": [
    "# !pip install opencv-python"
   ]
  },
  {
   "cell_type": "code",
   "execution_count": 2,
   "id": "42d57fac",
   "metadata": {},
   "outputs": [
    {
     "name": "stderr",
     "output_type": "stream",
     "text": [
      "C:\\Users\\kenny\\anaconda3\\Lib\\site-packages\\paramiko\\transport.py:219: CryptographyDeprecationWarning: Blowfish has been deprecated\n",
      "  \"class\": algorithms.Blowfish,\n"
     ]
    }
   ],
   "source": [
    "import cv2\n",
    "import numpy as np\n",
    "import matplotlib.pyplot as plt\n",
    "from skimage import feature, transform\n"
   ]
  },
  {
   "cell_type": "code",
   "execution_count": 3,
   "id": "5ac932b2",
   "metadata": {},
   "outputs": [],
   "source": [
    "def generate_chart_description(file_path):\n",
    "    \n",
    "    # Load the image\n",
    "    image = cv2.imread(file_path)\n",
    "\n",
    "    # Convert the image to HSV color space\n",
    "    hsv = cv2.cvtColor(image, cv2.COLOR_BGR2HSV)\n",
    "\n",
    "    # Define the lower and upper bounds for red color\n",
    "    lower_red = np.array([0, 100, 100])  # Adjust these values as needed\n",
    "    upper_red = np.array([10, 255, 255])\n",
    "\n",
    "    # Define the lower and upper bounds for green color\n",
    "    lower_green = np.array([40, 40, 40])  # Adjust these values as needed\n",
    "    upper_green = np.array([85, 255, 255])\n",
    "\n",
    "    # Threshold the HSV image to get only red or green colors\n",
    "    mask_red = cv2.inRange(hsv, lower_red, upper_red)\n",
    "    mask_green = cv2.inRange(hsv, lower_green, upper_green)\n",
    "\n",
    "    # Combine masks for red and green parts\n",
    "    mask_combined = cv2.bitwise_or(mask_red, mask_green)\n",
    "\n",
    "    # Find contours in the combined mask\n",
    "    contours_combined, _ = cv2.findContours(mask_combined, cv2.RETR_EXTERNAL, cv2.CHAIN_APPROX_SIMPLE)\n",
    "\n",
    "    # Select the contour with the largest area\n",
    "    if contours_combined:\n",
    "        largest_contour = max(contours_combined, key=cv2.contourArea)\n",
    "        mask_combined = np.zeros_like(mask_combined)\n",
    "        cv2.drawContours(mask_combined, [largest_contour], -1, 255, -1)\n",
    "\n",
    "    # Bitwise-AND mask and original image\n",
    "    res_combined = cv2.bitwise_and(image, image, mask=mask_combined)\n",
    "\n",
    "    # Convert the combined image to grayscale\n",
    "    res_combined_gray = cv2.cvtColor(res_combined, cv2.COLOR_BGR2GRAY)\n",
    "\n",
    "    # Apply Canny edge detection\n",
    "    edges = feature.canny(res_combined_gray, sigma=3)\n",
    "\n",
    "    # Detect lines using Hough Line Transform\n",
    "    lines = transform.probabilistic_hough_line(edges, threshold=1, line_length=1, line_gap=3)\n",
    "\n",
    "    # Initialize lists to store slopes\n",
    "    valid_lines = []\n",
    "\n",
    "    # Adjust the threshold values for filtering out horizontal and vertical lines\n",
    "    horizontal_threshold = 0  # Adjust this value as needed\n",
    "    vertical_threshold = 80  # Adjust this value as needed\n",
    "\n",
    "    # Draw the detected lines on the original image and calculate slopes\n",
    "    fig, ax = plt.subplots()\n",
    "    ax.imshow(res_combined, cmap=plt.cm.gray)\n",
    "    valid_lines = []  # Store valid lines\n",
    "    if lines is not None:\n",
    "        for line in lines:\n",
    "            p0, p1 = line\n",
    "\n",
    "            # Calculate slope\n",
    "            if p1[0] - p0[0] != 0:  # Check for division by zero\n",
    "                slope = abs((p1[1] - p0[1]) / (p1[0] - p0[0]))\n",
    "\n",
    "                # Check if both y-values are less than or equal to 200\n",
    "                if p0[1] <= 200 and p1[1] <= 200:\n",
    "                    # Ignore lines with slopes close to zero (horizontal lines)\n",
    "                    # and lines with infinite slopes (vertical lines)\n",
    "                    if slope > horizontal_threshold and slope < vertical_threshold:\n",
    "                        valid_lines.append(line)\n",
    "                        ax.plot((p0[0], p1[0]), (p0[1], p1[1]), color='red')\n",
    "\n",
    "    # Show the plot\n",
    "#     plt.show()\n",
    "\n",
    "      \n",
    "    # Determine x-coordinates of red lines\n",
    "    red_line_x_coords = [min(p0[0], p1[0]) for p0, p1 in valid_lines]\n",
    "\n",
    "    # Sort the x-coordinates\n",
    "    red_line_x_coords.sort()\n",
    "\n",
    "    # Divide the x-axis into four parts\n",
    "    quarter_points = np.linspace(min(red_line_x_coords), max(red_line_x_coords), num=5)\n",
    "\n",
    "    # Initialize lists to store descriptions for each quarter\n",
    "    descriptions = []\n",
    "\n",
    "    # Iterate over quarters\n",
    "    for i in range(len(quarter_points) - 1):\n",
    "        quarter_start = quarter_points[i]\n",
    "        quarter_end = quarter_points[i + 1]\n",
    "\n",
    "        # Filter lines within the current quarter\n",
    "        lines_in_quarter = [line for line in valid_lines if min(line[0][0], line[1][0]) >= quarter_start and max(line[0][0], line[1][0]) <= quarter_end]\n",
    "\n",
    "        # Get the first and last line segments within the quarter\n",
    "        if lines_in_quarter:\n",
    "            first_line = min(lines_in_quarter, key=lambda line: min(line[0][0], line[1][0]))\n",
    "            last_line = max(lines_in_quarter, key=lambda line: min(line[0][0], line[1][0]))\n",
    "\n",
    "            # Compare y-values of the first and last line segments\n",
    "            if abs(first_line[0][1] - last_line[1][1]) / max(first_line[0][1], last_line[1][1]) <= 0.05:\n",
    "                descriptions.append(\"the stock price exhibits little variation, suggesting a period of consolidation\")\n",
    "            elif first_line[0][1] < last_line[1][1]:\n",
    "                descriptions.append(\"a decline in stock value that could be due to wane in investor confidence, bearish market sentiment or economic headwinds\")\n",
    "            else:\n",
    "                descriptions.append(\"an increase in stock value that could be due to optimism in the market or bullish market conditions\")\n",
    "        else:\n",
    "            # No lines in the quarter\n",
    "            descriptions.append(\"no lines in this quarter\")\n",
    "\n",
    "        # Plot vertical lines at the start and end of the quarter\n",
    "        plt.axvline(x=quarter_start, color='blue', linestyle='--', linewidth=1)\n",
    "        plt.axvline(x=quarter_end, color='blue', linestyle='--', linewidth=1)\n",
    "\n",
    "        # Plot markers for the first and last points of each quarter\n",
    "        if lines_in_quarter:\n",
    "            plt.scatter(first_line[0][0], first_line[0][1], color='green', marker='o')\n",
    "            plt.scatter(last_line[1][0], last_line[1][1], color='red', marker='o')\n",
    "\n",
    "    # Plot the chart\n",
    "    plt.imshow(res_combined, cmap=plt.cm.gray)\n",
    "\n",
    "    # # Print descriptions for each quarter\n",
    "    # for i, description in enumerate(descriptions):\n",
    "    #     quarter_number = i + 1\n",
    "    #     quarter_word = convert_to_words(quarter_number)\n",
    "    #     if quarter_number == 1:\n",
    "    #         print(f\"The first quarter of the chart shows that {description}\")\n",
    "    #     elif quarter_number == 2:\n",
    "    #         print(f\"In the second quarter, {description}\")\n",
    "    #     elif quarter_number == 3:\n",
    "    #         print(f\"The third quarter indicates {description}\")\n",
    "    #     elif quarter_number == 4:\n",
    "    #         print(f\"Finally, the fourth quarter reveals {description}\")\n",
    "\n",
    "    # Print description for the fourth quarter\n",
    "    quarter_number = 4\n",
    "    quarter_word = convert_to_words(quarter_number)\n",
    "    print(f\"The tailend quarter reveals {descriptions[quarter_number - 1]}\")\n",
    "\n",
    "    # Show the plot\n",
    "    plt.show()"
   ]
  },
  {
   "cell_type": "code",
   "execution_count": 4,
   "id": "86303567",
   "metadata": {},
   "outputs": [],
   "source": [
    "# Convert quarter numbers to words\n",
    "def convert_to_words(number):\n",
    "    if number == 1:\n",
    "        return \"first\"\n",
    "    elif number == 2:\n",
    "        return \"second\"\n",
    "    elif number == 3:\n",
    "        return \"third\"\n",
    "    elif number == 4:\n",
    "        return \"fourth\"\n",
    "    else:\n",
    "        return \"\""
   ]
  },
  {
   "cell_type": "code",
   "execution_count": null,
   "id": "f7d9a439",
   "metadata": {},
   "outputs": [],
   "source": []
  },
  {
   "cell_type": "code",
   "execution_count": 5,
   "id": "70bee23d",
   "metadata": {},
   "outputs": [
    {
     "name": "stdout",
     "output_type": "stream",
     "text": [
      "The tailend quarter reveals a decline in stock value that could be due to wane in investor confidence, bearish market sentiment or economic headwinds\n"
     ]
    },
    {
     "data": {
      "image/png": "[encoded data removed]",
      "text/plain": [
       "<Figure size 640x480 with 1 Axes>"
      ]
     },
     "metadata": {},
     "output_type": "display_data"
    }
   ],
   "source": [
    "# Example usage:\n",
    "file_path = 'AAPL/1y_chart_20240308_1012.png'\n",
    "generate_chart_description(file_path)\n"
   ]
  }
 ],
 "metadata": {
  "kernelspec": {
   "display_name": "Python 3 (ipykernel)",
   "language": "python",
   "name": "python3"
  },
  "language_info": {
   "codemirror_mode": {
    "name": "ipython",
    "version": 3
   },
   "file_extension": ".py",
   "mimetype": "text/x-python",
   "name": "python",
   "nbconvert_exporter": "python",
   "pygments_lexer": "ipython3",
   "version": "3.11.5"
  }
 },
 "nbformat": 4,
 "nbformat_minor": 5
}
