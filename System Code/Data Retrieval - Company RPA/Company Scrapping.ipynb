{
 "cells": [
  {
   "cell_type": "markdown",
   "metadata": {},
   "source": [
    "# INVESTOR INTELLIGENCE AGENT - COMPANY INFORMATION RETRIEVAL"
   ]
  },
  {
   "cell_type": "markdown",
   "metadata": {},
   "source": [
    "## TASK:\n",
    "\n",
    "1. Retrieve Background of Company\n",
    "2. Retrieve Stock Price of Company (Image?)\n",
    "3. Retrieve Financial Metrics of Company\n",
    "4. Time series analysis (Revenue, profit margins)\n"
   ]
  },
  {
   "cell_type": "code",
   "execution_count": 1,
   "metadata": {
    "scrolled": true,
    "tags": []
   },
   "outputs": [],
   "source": [
    "# Please uncomment and press shift+enter to install some requirements\n",
    "# !pip install rpa \n",
    "# scikit-learn nltk lxml pystemmer"
   ]
  },
  {
   "cell_type": "markdown",
   "metadata": {},
   "source": [
    "### Optionally, change the sourcecode of tagui command-line to launch the chrome in the incognito model to prevent some login issue"
   ]
  },
  {
   "cell_type": "code",
   "execution_count": 7,
   "metadata": {
    "tags": []
   },
   "outputs": [],
   "source": [
    "# set \"incognito mode\"\n",
    "# !sed -i 's/chrome_started=\"$(uname -s)\"; chrome_switches=\"--user-data-dir=chrome\\/tagui_user_profile --remote-debugging-port=9222 about:blank\"/chrome_started=\"$(uname -s)\"; chrome_switches=\"--user-data-dir=chrome\\/tagui_user_profile --remote-debugging-port=9222 -incognito about:blank\"/g' ~/.tagui/src/tagui\n",
    "# !sed -i \"s/chrome_started=\\\"\\$(uname -s)\\\"; chrome_switches=\\\"--user-data-dir=chrome\\/tagui_user_profile --remote-debugging-port=9222 about:blank\\\"/chrome_started=\\\"\\$(uname -s)\\\"; chrome_switches=\\\"--user-data-dir=chrome\\/tagui_user_profile --remote-debugging-port=9222 --incognito about:blank\\\"/g\" \"C:/tagui/src/tagui\"\n",
    "\n",
    "# set \"normal mode\"\n",
    "# !sed -i 's/chrome_started=\"$(uname -s)\"; chrome_switches=\"--user-data-dir=chrome\\/tagui_user_profile --remote-debugging-port=9222 -incognito about:blank\"/chrome_started=\"$(uname -s)\"; chrome_switches=\"--user-data-dir=chrome\\/tagui_user_profile --remote-debugging-port=9222 about:blank\"/g' ~/.tagui/src/tagui\n"
   ]
  },
  {
   "cell_type": "markdown",
   "metadata": {},
   "source": [
    "---"
   ]
  },
  {
   "cell_type": "code",
   "execution_count": 19,
   "metadata": {
    "tags": []
   },
   "outputs": [],
   "source": [
    "# import rpa as t for the new vision of TagUI same function just different name\n",
    "import tagui as t\n",
    "import datetime"
   ]
  },
  {
   "cell_type": "code",
   "execution_count": 20,
   "metadata": {
    "tags": []
   },
   "outputs": [
    {
     "name": "stdout",
     "output_type": "stream",
     "text": [
      "[RPA][ERROR] - use init() before using close()\n"
     ]
    },
    {
     "data": {
      "text/plain": [
       "False"
      ]
     },
     "execution_count": 20,
     "metadata": {},
     "output_type": "execute_result"
    }
   ],
   "source": [
    "t.close()"
   ]
  },
  {
   "cell_type": "code",
   "execution_count": 8,
   "metadata": {
    "tags": []
   },
   "outputs": [],
   "source": [
    "# Extract Company Information from Google Finance\n",
    "\n",
    "def extract_company_info(company):\n",
    "    try:\n",
    "        t.init(visual_automation = True) # visual automation if keyboard automation required in subsequent code\n",
    "        t.url('https://www.google.com/finance/?hl=en') # go to google finance website\n",
    "        t.click('//c-wiz[2]//input[2]') # click on search bar and wait. Did not work when use type directly as first word to be searched is always missing. \n",
    "        t.wait(0.1) # introduced wait 0.1sec as per above comment to allow time before typing search\n",
    "        t.type('//c-wiz[2]//input[2]',  company+'[enter]') # search for company. enter does not work somehow\n",
    "        t.click('//*[@class=\"MkjOTb SAq8ff\"][1]') # click the top return company. \n",
    "\n",
    "        Company_Full = t.read('//*[contains(@class,\"zzDege\")]') # read full name of company. act as confirmation to user's request as the search name used may not be complete\n",
    "        live_price = t.read('//*[contains(@class,\"YMlKec fxKbKc\")]') # reads live stock exchange price\n",
    "        Trade = t.read('//div[@class=\"PdOqHc\"]') # reads stock market and ticker symbol used\n",
    "        stock_market = Trade.split(\" • \")[1] # extracts stock market name\n",
    "        ticker_symbol = Trade.split(\" • \")[0][slice(4,len(Trade.split(\" • \")[0]))] # extracts ticker symbol used\n",
    "        ceo = t.read('//span[@class=\"w4txWc oJeWuf\"]/div[2]//a[@class=\"tBHE4e\"]') # reads CEO of company\n",
    "        about_company = t.read('//*[@class=\"bLLb2d\"]')\n",
    "        \n",
    "        # financial_date\n",
    "    \n",
    "        return Company_Full, live_price, stock_market, ticker_symbol, ceo, about_company\n",
    "    \n",
    "    except Exception as e:\n",
    "        print(f\"Error occurred: {str(e)}\")\n",
    "        return None, None, None, None, None, None"
   ]
  },
  {
   "cell_type": "code",
   "execution_count": null,
   "metadata": {},
   "outputs": [],
   "source": [
    "# test\n",
    "# company_info = extract_company_info(company) \n",
    "# print(company_info['live_price'])"
   ]
  },
  {
   "cell_type": "code",
   "execution_count": 6,
   "metadata": {
    "tags": []
   },
   "outputs": [],
   "source": [
    "# Snap and save Stock Price Chart\n",
    "chart_duration = [\"1day\", \"1year\"] # Options of \"1day\", \"5day\", \"1month\", \"6month\", \"ytd\", \"1year\", \"5year\", and \"max\". Default set to 1 day and 1 year charts\n",
    "for duration in chart_duration:\n",
    "    t.click('//*[@id=\"' + duration + 'Tab\"]') # click duration\n",
    "    t.snap('//*[@class=\"ushogf\"]',ticker_symbol + '/' + duration + '_chart_'+datetime.datetime.now().strftime(\"%Y%m%d_%H%M\")+'.png') # snap  chart\n",
    "\n",
    "# Working Code derived to click 1 year tab and snap  1 year chart before using array of chart_duration\n",
    "# t.click('//*[@id=\"1yearTab\"]') # click to display 1 year chart\n",
    "# t.snap('//*[@class=\"ushogf\"]',ticker_symbol+'/'+'1Y_chart_'+datetime.datetime.now().strftime(\"%Y%m%d_%H%M\")+'.png') # snap 1 year chart"
   ]
  },
  {
   "cell_type": "code",
   "execution_count": 16,
   "metadata": {
    "tags": []
   },
   "outputs": [],
   "source": [
    "## Export to Excel as Stock Portfolio\n",
    "import datetime\n",
    "from openpyxl import Workbook, load_workbook\n",
    "\n",
    "# Function to create or load workbook and add data\n",
    "def update_excel(username, company_info):\n",
    "    # Define file path based on username\n",
    "    file_path = f\"{username}_stock_profile.xlsx\"\n",
    "\n",
    "    try:\n",
    "        # Load existing workbook\n",
    "        workbook = load_workbook(file_path)\n",
    "        worksheet = workbook.active\n",
    "    except FileNotFoundError:\n",
    "        # If workbook doesn't exist, create a new one\n",
    "        workbook = Workbook()\n",
    "        worksheet = workbook.active\n",
    "        # Add headers to the first row\n",
    "        worksheet.append([\"Date\", \"Company\", \"Live Price\", \"Stock Market\", \"Ticker Symbol\", \"CEO\", \"Company Description\"])\n",
    "\n",
    "    # Append data to the workbook\n",
    "    row_data = [datetime.datetime.now()] + list(company_info)\n",
    "    worksheet.append(row_data)\n",
    "\n",
    "    # Save the workbook\n",
    "    workbook.save(file_path)"
   ]
  },
  {
   "cell_type": "code",
   "execution_count": 18,
   "metadata": {
    "tags": []
   },
   "outputs": [],
   "source": [
    "# Example usage:\n",
    "username = \"ky\"  # Define username\n",
    "company = 'apple' # User input company of interest\n",
    "\n",
    "company_info = extract_company_info(company) # stores extracted information\n",
    "if company_info[0]:  # Check if data is not None\n",
    "    Company_Full, live_price, stock_market, ticker_symbol, ceo, about_company = company_info\n",
    "    # Process retrieved data\n",
    "else:\n",
    "    print(\"Company information retrieval failed.\")\n",
    "\n",
    "update_excel(username, company_info)"
   ]
  },
  {
   "cell_type": "markdown",
   "metadata": {},
   "source": [
    "## Summary\n",
    "Great recap! Let's now deep drive in the this process\n",
    "- 1. we upload a image\n",
    "- 2. Bing get the image file and do some magic process, then back the result\n",
    "- 3. we download top threes similar images\n",
    "\n",
    "Intelligent process automation process\n",
    "- We use tagui-bot to upload and download the image;\n",
    "- We use tagui-bot to retrieve similar image from Bing Image Search;\n"
   ]
  },
  {
   "cell_type": "markdown",
   "metadata": {},
   "source": [
    "<div class=\"alert alert-info alertdanger\" style=\"margin-top: 20px\">\n",
    "    <h1>\n",
    "       Virtual Assistant\n",
    "    </h1>\n",
    "    <p>\n",
    "       for Job Applicatio & Cover Letter\n",
    "    </p>\n",
    "</div>"
   ]
  },
  {
   "cell_type": "markdown",
   "metadata": {},
   "source": [
    "## IPA Task"
   ]
  },
  {
   "cell_type": "markdown",
   "metadata": {},
   "source": [
    "We are to build a JobApplicationAssistant which will monitor \"Job Opportunities\" email from the provided email. Based on the user's \"Resume/CV\" and job desciption, the agent can generate tailored cover letters for job appication via eamil."
   ]
  },
  {
   "cell_type": "markdown",
   "metadata": {},
   "source": [
    "## IPA Solution"
   ]
  },
  {
   "cell_type": "markdown",
   "metadata": {},
   "source": [
    "### 1. First: Monitor and retieve job opportunities \n",
    "\n",
    "    Get the job description from the target email account\n",
    "        - Login the mail\n",
    "        - Search the job description emails\n",
    "        - Download the job description files\n",
    "        \n",
    "### 2. Second: Write cover letter \n",
    "\n",
    "    Use local AI module to conduct text/language processing and generate the coverletters based on the Job Description and the Resume\n",
    "\n",
    "### 3. Third: Send job application via email \n",
    "\n",
    "    In this part, we use both pure python method and tagui to send the email to the hiring company\n"
   ]
  },
  {
   "cell_type": "markdown",
   "metadata": {},
   "source": [
    "<div class=\"alert alert-success alertdanger\" style=\"margin-top: 20px\">\n",
    "    <h1>\n",
    "        First: Monitor and retieve job opportunities\n",
    "    </h1>\n",
    "    <p>\n",
    "        Get the job description from the target email account\n",
    "    </p>\n",
    "</div>"
   ]
  },
  {
   "cell_type": "markdown",
   "metadata": {},
   "source": [
    "<div class=\"alert alert-danger alertdanger\" style=\"margin-top: 20px\">\n",
    "    <h1>\n",
    "         Workshop Quiz:\n",
    "    </h1>\n",
    "    <p>\n",
    "         Login the target Email Account\n",
    "    </p>\n",
    "    <p>\n",
    "         <b>(Recap earlier IPA workshop Tutorial)</b>\n",
    "    </p>\n",
    "        <p>\n",
    "        <b>Check TagUI-Python functions on TagUI-Python(<a href=\"https://github.com/tebelorg/RPA-Python\">https://github.com/tebelorg/RPA-Python</a>) </b>\n",
    "    </p>\n",
    "</div>"
   ]
  },
  {
   "cell_type": "code",
   "execution_count": 4,
   "metadata": {},
   "outputs": [
    {
     "name": "stdout",
     "output_type": "stream",
     "text": [
      "C:\\Users\\kenny\\Desktop\\S-IPA-Workshop-master\\workshop2\\Virtual-Assistant-Job\n"
     ]
    }
   ],
   "source": [
    "import tagui as t\n",
    "import os\n",
    "\n",
    "CURRENT_PATH = os.getcwd()\n",
    "\n",
    "print(CURRENT_PATH)"
   ]
  },
  {
   "cell_type": "code",
   "execution_count": 5,
   "metadata": {},
   "outputs": [],
   "source": [
    "def hover_and_read(selector):\n",
    "    t.hover(selector)\n",
    "    str = t.read(selector)\n",
    "    return str"
   ]
  },
  {
   "cell_type": "code",
   "execution_count": 6,
   "metadata": {},
   "outputs": [
    {
     "name": "stdout",
     "output_type": "stream",
     "text": [
      "[RPA][ERROR] - use init() before using close()\n"
     ]
    },
    {
     "data": {
      "text/plain": [
       "False"
      ]
     },
     "execution_count": 6,
     "metadata": {},
     "output_type": "execute_result"
    }
   ],
   "source": [
    "t.close()"
   ]
  },
  {
   "cell_type": "code",
   "execution_count": 7,
   "metadata": {},
   "outputs": [],
   "source": [
    "import json\n",
    "\n",
    "email_info = None\n",
    "with open(\"./email_info.json\",'r') as load_f: # Ask lecturer for this ./email_info.json file\n",
    "    email_info = json.load(load_f)\n",
    "    \n",
    "email_info = email_info['1']\n",
    "# email_info"
   ]
  },
  {
   "cell_type": "code",
   "execution_count": 51,
   "metadata": {},
   "outputs": [],
   "source": [
    "# name = \"XU JIACHEN\"\n",
    "# phone = \"+65 93752168\"\n",
    "name = \"Virtual Assistant of Mr. KY\"\n",
    "phone = \"+65 6601 3161\"\n",
    "\n",
    "# Please uncomment next line please change to your own email address\n",
    "# company_emails = ['liyingxujiachen@gmail.com']\n",
    "company_emails = ['kysem2@hotmail.com']\n",
    "resume_file_path = os.path.join(CURRENT_PATH,\"resume/resume.pdf\")\n",
    "# maybe you chang to your own resume"
   ]
  },
  {
   "cell_type": "code",
   "execution_count": 18,
   "metadata": {},
   "outputs": [],
   "source": [
    "# Write your code from here:\n"
   ]
  },
  {
   "cell_type": "markdown",
   "metadata": {},
   "source": [
    "---"
   ]
  },
  {
   "cell_type": "code",
   "execution_count": 19,
   "metadata": {},
   "outputs": [],
   "source": [
    "# Or use below 'filling the blank' coding template:"
   ]
  },
  {
   "cell_type": "code",
   "execution_count": 37,
   "metadata": {},
   "outputs": [],
   "source": [
    "# Write your code below\n",
    "def loginEmail_outlook(email_account,email_pwd):\n",
    "    try:\n",
    "        t.init(visual_automation = True)\n",
    "        t.url('https://login.live.com/login.srf?wa=wsignin1.0&rpsnv=13&ct=1580788659&rver=7.0.6737.0&wp=MBI_SSL&wreply=https%3a%2f%2foutlook.live.com%2fowa%2f%3fnlp%3d1%26RpsCsrfState%3dd234420e-f55a-d62c-a8e6-c1c9a31e4e54&id=292841&aadredir=1&CBCXT=out&lw=1&fl=dob%2cflname%2cwld&cobrandid=90015')\n",
    "        t.type('//*[@id=\"i0116\"]',  email_account + '[enter]')\n",
    "        t.wait(3)\n",
    "#         t.click('//*[@id=\"idSIButton9\"]')  # Click the Next button\n",
    "#         t.wait(0.5)\n",
    "        t.type('//*[@id=\"i0118\"]', email_pwd + '[enter]')\n",
    "#         t.wait(0.5)\n",
    "#         t.click('//*[@id=\"idSIButton9\"]')  # Click the Sign in button\n",
    "        t.wait(3)\n",
    "        if (t.present('//input[@id=\"idBtn_Back\"]')):\n",
    "            t.click('//input[@id=\"idBtn_Back\"]')\n",
    "        t.wait(5)\n",
    "    except:\n",
    "        t.close()"
   ]
  },
  {
   "cell_type": "code",
   "execution_count": 27,
   "metadata": {},
   "outputs": [],
   "source": [
    "try:\n",
    "    loginEmail_outlook(email_info['email'],email_info['password'])\n",
    "finally:\n",
    "    t.close()"
   ]
  },
  {
   "cell_type": "code",
   "execution_count": 22,
   "metadata": {},
   "outputs": [],
   "source": [
    "# Uncommnet below, then press Shift+Enter for solution\n",
    "# codehelper.hint_for_ipa_recap_two()"
   ]
  },
  {
   "cell_type": "markdown",
   "metadata": {},
   "source": [
    "<div class=\"alert alert-danger alertdanger\" style=\"margin-top: 20px\">\n",
    "    <h1>\n",
    "         Workshop Quiz:\n",
    "    </h1>\n",
    "    <p>\n",
    "         Download the Job Description files from email being monitored(After login)\n",
    "    </p>\n",
    "            <p>\n",
    "        <b>Check TagUI-Python functions on TagUI-Python(<a href=\"https://github.com/tebelorg/RPA-Python\">https://github.com/tebelorg/RPA-Python</a>) </b>\n",
    "    </p>\n",
    "</div>"
   ]
  },
  {
   "cell_type": "code",
   "execution_count": 43,
   "metadata": {},
   "outputs": [],
   "source": [
    "# Write your code from here:\n"
   ]
  },
  {
   "cell_type": "markdown",
   "metadata": {},
   "source": [
    "---"
   ]
  },
  {
   "cell_type": "code",
   "execution_count": 24,
   "metadata": {},
   "outputs": [],
   "source": [
    "# Following lines are step-by-step codes used during testing prior to completing the blank coding template"
   ]
  },
  {
   "cell_type": "code",
   "execution_count": 16,
   "metadata": {},
   "outputs": [
    {
     "name": "stdout",
     "output_type": "stream",
     "text": [
      "The number of job opportunity emails is:  8\n"
     ]
    }
   ],
   "source": [
    "# loginEmail_outlook(email_info['email'],email_info['password'])\n",
    "# t.wait(1)\n",
    "\n",
    "# t.click('//*[@id=\"topSearchInput\"]')\n",
    "# t.type('//*[@id=\"topSearchInput\"]','from:kenny chua job opportunity')\n",
    "# t.click('//button[@aria-label=\"Search\"]')\n",
    "# t.wait(3)\n",
    "num_email=t.count('//div[@class=\"XG5Jd JtO0E\"]')\n",
    "print('The number of job opportunity emails is: ',num_email)"
   ]
  },
  {
   "cell_type": "code",
   "execution_count": 24,
   "metadata": {},
   "outputs": [],
   "source": [
    "for n in range(1,num_email+1):\n",
    "    t.click(f'(//div[@data-convid])[{n}]')\n",
    "    t.wait(1)\n"
   ]
  },
  {
   "cell_type": "code",
   "execution_count": 33,
   "metadata": {},
   "outputs": [
    {
     "name": "stdout",
     "output_type": "stream",
     "text": [
      "IS05 FT Student Timetable (AY2023_2024) V6.0.pdf\n"
     ]
    }
   ],
   "source": [
    "jd_files=[]\n",
    "title = 'hello'\n",
    "t.click(f'(//div[@data-convid])[{1}]')\n",
    "if t.present('//div[@class=\"VlyYV PQeLQ QEiYT\"]'):\n",
    "    # jd_files.append(os.path.join(CURRENT_PATH,hover_and_read('//div[@class=\"VlyYV PQeLQ QEiYT\"]').split(\"location=./\")[-1]))\n",
    "    title = hover_and_read('//div[@class=\"VlyYV PQeLQ QEiYT\"]/@title')\n",
    "print(title)\n"
   ]
  },
  {
   "cell_type": "code",
   "execution_count": 36,
   "metadata": {},
   "outputs": [
    {
     "name": "stdout",
     "output_type": "stream",
     "text": [
      "Those job opportunities files  ['C:\\\\Users\\\\kenny\\\\Desktop\\\\S-IPA-Workshop-master\\\\workshop2\\\\Virtual-Assistant-Job\\\\IS05 FT Student Timetable (AY2023_2024) V6.0.pdf']\n"
     ]
    }
   ],
   "source": [
    "jd_files.append(os.path.join(CURRENT_PATH,hover_and_read('//div[@class=\"VlyYV PQeLQ QEiYT\"]/@title')))\n",
    "print(\"Those job opportunities files \",jd_files)\n"
   ]
  },
  {
   "cell_type": "code",
   "execution_count": 11,
   "metadata": {},
   "outputs": [
    {
     "data": {
      "text/plain": [
       "True"
      ]
     },
     "execution_count": 11,
     "metadata": {},
     "output_type": "execute_result"
    }
   ],
   "source": [
    "t.close()"
   ]
  },
  {
   "cell_type": "code",
   "execution_count": 78,
   "metadata": {},
   "outputs": [],
   "source": [
    "# Or use below 'filling the blank' coding template:"
   ]
  },
  {
   "cell_type": "code",
   "execution_count": 38,
   "metadata": {},
   "outputs": [],
   "source": [
    "# maybe you will surprise about some xpath using unstable class name or other attributes\n",
    "def getJobDescription():\n",
    "    try:\n",
    "        \n",
    "        t.click('//*[@id=\"topSearchInput\"]')\n",
    "        t.type('//*[@id=\"topSearchInput\"]','from:kenny chua job opportunity')\n",
    "        t.click('//button[@aria-label=\"Search\"]')\n",
    "        t.wait(3)\n",
    "        num_email=t.count('//div[@class=\"XG5Jd JtO0E\"]')\n",
    "        print('The number of job opportunity emails is: ',num_email)\n",
    "        jd_files=[]\n",
    "        for n in range(1,num_email+1):\n",
    "            t.click(f'(//div[@data-convid])[{n}]')\n",
    "            t.wait(1)\n",
    "            if t.present('//div[@class=\"VlyYV PQeLQ QEiYT\"]'):\n",
    "                jd_files.append(os.path.join(CURRENT_PATH,hover_and_read('//div[@class=\"VlyYV PQeLQ QEiYT\"]/@title')))\n",
    "                print(\"Those job opportunities files \",jd_files)\n",
    "#         for n in range(1,num_email+1):\n",
    "#             t.click(f'(//div[@data-convid\"])[{n}]')\n",
    "#             jd_files.append(os.path.join(CURRENT_PATH,hover_and_read('//div[@class=\"JA9Uf YyULm\"]').split(\"location=./\")[-1]))\n",
    "#             print(\"Thoes job opportunities files \",jd_files)\n",
    "        return jd_files\n",
    "    finally:\n",
    "        t.close()"
   ]
  },
  {
   "cell_type": "code",
   "execution_count": 39,
   "metadata": {},
   "outputs": [
    {
     "data": {
      "text/plain": [
       "True"
      ]
     },
     "execution_count": 39,
     "metadata": {},
     "output_type": "execute_result"
    }
   ],
   "source": [
    "t.close()"
   ]
  },
  {
   "cell_type": "code",
   "execution_count": 40,
   "metadata": {
    "scrolled": true
   },
   "outputs": [
    {
     "name": "stdout",
     "output_type": "stream",
     "text": [
      "The number of job opportunity emails is:  8\n",
      "Those job opportunities files  ['C:\\\\Users\\\\kenny\\\\Desktop\\\\S-IPA-Workshop-master\\\\workshop2\\\\Virtual-Assistant-Job\\\\20230908A_Asthma Exacerbation Predictive_SingHealth_(EBAC)(IS).pdf']\n",
      "Those job opportunities files  ['C:\\\\Users\\\\kenny\\\\Desktop\\\\S-IPA-Workshop-master\\\\workshop2\\\\Virtual-Assistant-Job\\\\20230908A_Asthma Exacerbation Predictive_SingHealth_(EBAC)(IS).pdf', 'C:\\\\Users\\\\kenny\\\\Desktop\\\\S-IPA-Workshop-master\\\\workshop2\\\\Virtual-Assistant-Job\\\\IS05 FT Student Timetable (AY2023_2024) V6.0.pdf']\n",
      "Those job opportunities files  ['C:\\\\Users\\\\kenny\\\\Desktop\\\\S-IPA-Workshop-master\\\\workshop2\\\\Virtual-Assistant-Job\\\\20230908A_Asthma Exacerbation Predictive_SingHealth_(EBAC)(IS).pdf', 'C:\\\\Users\\\\kenny\\\\Desktop\\\\S-IPA-Workshop-master\\\\workshop2\\\\Virtual-Assistant-Job\\\\IS05 FT Student Timetable (AY2023_2024) V6.0.pdf', 'C:\\\\Users\\\\kenny\\\\Desktop\\\\S-IPA-Workshop-master\\\\workshop2\\\\Virtual-Assistant-Job\\\\20230908A_Asthma Exacerbation Predictive_SingHealth_(EBAC)(IS).pdf']\n",
      "[RPA][ERROR] - use init() before using close()\n"
     ]
    }
   ],
   "source": [
    "try:\n",
    "    loginEmail_outlook(email_info['email'],email_info['password'])\n",
    "    t.wait(15)\n",
    "    jd_files = list(set(getJobDescription()))\n",
    "finally:\n",
    "    t.close()"
   ]
  },
  {
   "cell_type": "code",
   "execution_count": 41,
   "metadata": {},
   "outputs": [
    {
     "data": {
      "text/plain": [
       "['C:\\\\Users\\\\kenny\\\\Desktop\\\\S-IPA-Workshop-master\\\\workshop2\\\\Virtual-Assistant-Job\\\\20230908A_Asthma Exacerbation Predictive_SingHealth_(EBAC)(IS).pdf',\n",
       " 'C:\\\\Users\\\\kenny\\\\Desktop\\\\S-IPA-Workshop-master\\\\workshop2\\\\Virtual-Assistant-Job\\\\IS05 FT Student Timetable (AY2023_2024) V6.0.pdf']"
      ]
     },
     "execution_count": 41,
     "metadata": {},
     "output_type": "execute_result"
    }
   ],
   "source": [
    "jd_files"
   ]
  },
  {
   "cell_type": "code",
   "execution_count": 42,
   "metadata": {},
   "outputs": [],
   "source": [
    "# Uncommnet below, then press Shift+Enter for solution\n",
    "# codehelper.hint_for_ipa_exercise_one()"
   ]
  },
  {
   "cell_type": "code",
   "execution_count": 43,
   "metadata": {},
   "outputs": [
    {
     "name": "stdout",
     "output_type": "stream",
     "text": [
      "[RPA][ERROR] - use init() before using close()\n"
     ]
    },
    {
     "data": {
      "text/plain": [
       "False"
      ]
     },
     "execution_count": 43,
     "metadata": {},
     "output_type": "execute_result"
    }
   ],
   "source": [
    "t.close()"
   ]
  },
  {
   "cell_type": "markdown",
   "metadata": {},
   "source": [
    "<div class=\"alert alert-success alertdanger\" style=\"margin-top: 20px\">\n",
    "    <h1>\n",
    "        Second: Write cover letter\n",
    "    </h1>\n",
    "    <p>\n",
    "        Use local AI module to conduct text/language processing and generate the coverletters based on the Job Description and the Resume\n",
    "    </p>\n",
    "</div>"
   ]
  },
  {
   "cell_type": "code",
   "execution_count": 49,
   "metadata": {},
   "outputs": [
    {
     "data": {
      "text/plain": [
       "'C:\\\\Users\\\\kenny\\\\Desktop\\\\S-IPA-Workshop-master\\\\workshop2\\\\Virtual-Assistant-Job\\\\resume/resume.pdf'"
      ]
     },
     "execution_count": 49,
     "metadata": {},
     "output_type": "execute_result"
    }
   ],
   "source": [
    "resume_file_path"
   ]
  },
  {
   "cell_type": "code",
   "execution_count": 64,
   "metadata": {
    "scrolled": true
   },
   "outputs": [
    {
     "ename": "ModuleNotFoundError",
     "evalue": "No module named 'Stemmer'",
     "output_type": "error",
     "traceback": [
      "\u001b[1;31m---------------------------------------------------------------------------\u001b[0m",
      "\u001b[1;31mModuleNotFoundError\u001b[0m                       Traceback (most recent call last)",
      "Cell \u001b[1;32mIn[64], line 1\u001b[0m\n\u001b[1;32m----> 1\u001b[0m \u001b[38;5;28;01mfrom\u001b[39;00m \u001b[38;5;21;01mipa\u001b[39;00m \u001b[38;5;28;01mimport\u001b[39;00m CoverLetterGenerator\n\u001b[0;32m      3\u001b[0m os\u001b[38;5;241m.\u001b[39mchdir(CURRENT_PATH)\n\u001b[0;32m      5\u001b[0m gen \u001b[38;5;241m=\u001b[39m CoverLetterGenerator(resume_file_path,jd_files,name,phone,email_info[\u001b[38;5;124m'\u001b[39m\u001b[38;5;124memail\u001b[39m\u001b[38;5;124m'\u001b[39m])\n",
      "File \u001b[1;32m~\\Desktop\\S-IPA-Workshop-master\\workshop2\\Virtual-Assistant-Job\\ipa\\__init__.py:8\u001b[0m\n\u001b[0;32m      5\u001b[0m \u001b[38;5;28;01mfrom\u001b[39;00m \u001b[38;5;21;01mcollections\u001b[39;00m \u001b[38;5;28;01mimport\u001b[39;00m namedtuple\n\u001b[0;32m      6\u001b[0m \u001b[38;5;28;01mimport\u001b[39;00m \u001b[38;5;21;01mrandom\u001b[39;00m\n\u001b[1;32m----> 8\u001b[0m \u001b[38;5;28;01mfrom\u001b[39;00m \u001b[38;5;21;01mipa\u001b[39;00m\u001b[38;5;21;01m.\u001b[39;00m\u001b[38;5;21;01mIPA\u001b[39;00m \u001b[38;5;28;01mimport\u001b[39;00m ApplicantDB, Job, JobDB, Resume\n\u001b[0;32m      9\u001b[0m \u001b[38;5;28;01mfrom\u001b[39;00m \u001b[38;5;21;01mipa\u001b[39;00m\u001b[38;5;21;01m.\u001b[39;00m\u001b[38;5;21;01mCoverLetter\u001b[39;00m \u001b[38;5;28;01mimport\u001b[39;00m CoverLetter\n\u001b[0;32m     10\u001b[0m \u001b[38;5;28;01mfrom\u001b[39;00m \u001b[38;5;21;01mipa\u001b[39;00m\u001b[38;5;21;01m.\u001b[39;00m\u001b[38;5;21;01mutils\u001b[39;00m \u001b[38;5;28;01mimport\u001b[39;00m replace_char_for_latex\n",
      "File \u001b[1;32m~\\Desktop\\S-IPA-Workshop-master\\workshop2\\Virtual-Assistant-Job\\ipa\\IPA.py:36\u001b[0m\n\u001b[0;32m     33\u001b[0m                 \u001b[38;5;28mself\u001b[39m\u001b[38;5;241m.\u001b[39moutput\u001b[38;5;241m.\u001b[39mappend(i)\n\u001b[0;32m     34\u001b[0m         \u001b[38;5;28;01mreturn\u001b[39;00m \u001b[38;5;28mself\u001b[39m\u001b[38;5;241m.\u001b[39moutput\n\u001b[1;32m---> 36\u001b[0m \u001b[38;5;28;01mimport\u001b[39;00m \u001b[38;5;21;01mStemmer\u001b[39;00m\n\u001b[0;32m     37\u001b[0m english_stemmer \u001b[38;5;241m=\u001b[39m Stemmer\u001b[38;5;241m.\u001b[39mStemmer(\u001b[38;5;124m'\u001b[39m\u001b[38;5;124men\u001b[39m\u001b[38;5;124m'\u001b[39m)\n\u001b[0;32m     38\u001b[0m \u001b[38;5;28;01mclass\u001b[39;00m \u001b[38;5;21;01mStemmedTfidfVectorizer\u001b[39;00m(TfidfVectorizer):\n",
      "\u001b[1;31mModuleNotFoundError\u001b[0m: No module named 'Stemmer'"
     ]
    }
   ],
   "source": [
    "from ipa import CoverLetterGenerator\n",
    "\n",
    "os.chdir(CURRENT_PATH)\n",
    "\n",
    "gen = CoverLetterGenerator(resume_file_path,jd_files,name,phone,email_info['email'])\n",
    "\n",
    "import time\n",
    "starttime = time.clock()\n",
    "cover_letters = gen.generate()\n",
    "endtime = time.clock()\n",
    "print('Running time: %s Mins'%((endtime-starttime)/60))"
   ]
  },
  {
   "cell_type": "code",
   "execution_count": 44,
   "metadata": {},
   "outputs": [
    {
     "data": {
      "text/plain": [
       "['/media/sf_vm_shared_folder/git/S-IPA-Workshop/workshop2/Virtual-Assistant-Job/ipa/coverletter_20200309/templates_0.pdf',\n",
       " '/media/sf_vm_shared_folder/git/S-IPA-Workshop/workshop2/Virtual-Assistant-Job/ipa/coverletter_20200309/templates_1.pdf',\n",
       " '/media/sf_vm_shared_folder/git/S-IPA-Workshop/workshop2/Virtual-Assistant-Job/ipa/coverletter_20200309/templates_2.pdf',\n",
       " '/media/sf_vm_shared_folder/git/S-IPA-Workshop/workshop2/Virtual-Assistant-Job/ipa/coverletter_20200309/templates_3.pdf',\n",
       " '/media/sf_vm_shared_folder/git/S-IPA-Workshop/workshop2/Virtual-Assistant-Job/ipa/coverletter_20200309/templates_4.pdf',\n",
       " '/media/sf_vm_shared_folder/git/S-IPA-Workshop/workshop2/Virtual-Assistant-Job/ipa/coverletter_20200309/templates_5.pdf']"
      ]
     },
     "execution_count": 44,
     "metadata": {},
     "output_type": "execute_result"
    }
   ],
   "source": [
    "# if the result is empty, that means your resume doesn't match those job postions, don't worry.\n",
    "# You can use your own resume\n",
    "cover_letters"
   ]
  },
  {
   "cell_type": "code",
   "execution_count": 45,
   "metadata": {},
   "outputs": [],
   "source": [
    "import shutil\n",
    "\n",
    "for index,cletter in enumerate(cover_letters):\n",
    "    shutil.copy(cletter,\n",
    "            './coverletter/coverleter_'+str(index)+\".pdf\")"
   ]
  },
  {
   "cell_type": "markdown",
   "metadata": {},
   "source": [
    "<div class=\"alert alert-success alertdanger\" style=\"margin-top: 20px\">\n",
    "    <h1>\n",
    "        Third: Send back application Email\n",
    "    </h1>\n",
    "    <p>\n",
    "        In this part, we use both pure python method and tagui to send the email to the hiring company\n",
    "    </p>\n",
    "</div>"
   ]
  },
  {
   "cell_type": "markdown",
   "metadata": {},
   "source": [
    "**Send email by Python:**"
   ]
  },
  {
   "cell_type": "code",
   "execution_count": 35,
   "metadata": {},
   "outputs": [],
   "source": [
    "import smtplib\n",
    "import imghdr\n",
    "from email.mime.text import MIMEText\n",
    "from email.mime.image import MIMEImage\n",
    "from email.mime.multipart import MIMEMultipart\n",
    "from email.mime.application import MIMEApplication\n",
    "import random\n",
    "\n",
    "imgType_list = {'jpg','bmp','png','jpeg','rgb','tif'}\n",
    "\n",
    "# def send(sender_account,sender_password,toaddrs,email_text):\n",
    "#     try:\n",
    "#         server = smtplib.SMTP_SSL('smtp.gmail.com', 465)\n",
    "#         server.ehlo()\n",
    "#         server.login(sender_account, sender_password)\n",
    "#         server.sendmail(sender_account, toaddrs, email_text)\n",
    "#         server.close()\n",
    "#         print('Email sent!')\n",
    "#     except:\n",
    "#         print('Something went wrong...') \n",
    "\n",
    "def send(sender_account,sender_password,toaddrs,email_text):\n",
    "    try:\n",
    "        server = smtplib.SMTP('smtp.office365.com', 587)\n",
    "        server.starttls()\n",
    "        server.login(sender_account, sender_password)\n",
    "        print ('server working fine')\n",
    "        server.sendmail(sender_account, toaddrs, email_text)\n",
    "        server.close()\n",
    "        print('Email sent!')\n",
    "    except Exception as e:\n",
    "        print(e)\n",
    "        print('Something went wrong...') \n",
    "\n",
    "def sendmail(sender_account,sender_password,toaddrs,subject,content,attachments):\n",
    "\n",
    "    m = MIMEMultipart()\n",
    "    \n",
    "    textApart = MIMEText(content)\n",
    "    \n",
    "    m.attach(textApart)\n",
    "    \n",
    "    \n",
    "    for attach in attachments:\n",
    "        if imghdr.what(attach) in imgType_list:\n",
    "            imageApart = MIMEImage(open(attach, 'rb').read(), attach.split('.')[-1])\n",
    "            imageApart.add_header('Content-Disposition', 'attachment', filename=attach)\n",
    "            m.attach(imageApart)\n",
    "        else:\n",
    "            docApart = MIMEApplication(open(attach, 'rb').read())\n",
    "            docApart.add_header('Content-Disposition', 'attachment', filename=attach)\n",
    "            m.attach(docApart)\n",
    "            \n",
    "    m['Subject'] = subject\n",
    "    \n",
    "    send(sender_account,sender_password,toaddrs,m.as_string()) "
   ]
  },
  {
   "cell_type": "code",
   "execution_count": 36,
   "metadata": {},
   "outputs": [
    {
     "data": {
      "text/plain": [
       "['bwbw75@gmail.com']"
      ]
     },
     "execution_count": 36,
     "metadata": {},
     "output_type": "execute_result"
    }
   ],
   "source": [
    "company_emails"
   ]
  },
  {
   "cell_type": "code",
   "execution_count": 56,
   "metadata": {},
   "outputs": [
    {
     "name": "stdout",
     "output_type": "stream",
     "text": [
      "server working fine\n",
      "Email sent!\n",
      "server working fine\n",
      "Email sent!\n"
     ]
    }
   ],
   "source": [
    "for index,_ in enumerate(cover_letters):\n",
    "    sent_from = email_info['email']\n",
    "    to = [random.choices(company_emails)]\n",
    "    subject = 'Job application - cover letter & resume (Python)'\n",
    "    body = \"Dear Sir/Madam, \\n \\\n",
    "    I am eager to apply for your position. And consider myself a best fit. \\n \\\n",
    "    (insert many nice words of your choice) \\n\\n \\\n",
    "    Warm regards, \\n\" + name\n",
    "    attachments = ['./coverletter/coverleter_'+str(index)+\".pdf\",'./resume/resume.pdf']\n",
    "    sendmail(email_info['email'],email_info['password'],to,subject,body,attachments)"
   ]
  },
  {
   "cell_type": "markdown",
   "metadata": {},
   "source": [
    "<div class=\"alert alert-danger alertdanger\" style=\"margin-top: 20px\">\n",
    "    <h1>\n",
    "         Workshop Quiz:\n",
    "    </h1>\n",
    "    <p>\n",
    "         Send email by TagUI\n",
    "    </p>    \n",
    "    <p>\n",
    "         Recall \"CSS Selector Exericse in earlier workshop --- use the Bing Image Search to search the related image\" about How to use TagUI upload file\n",
    "    </p>\n",
    "                <p>\n",
    "        <b>Check TagUI-Python functions on TagUI-Python(<a href=\"https://github.com/tebelorg/RPA-Python\">https://github.com/tebelorg/RPA-Python</a>) </b>\n",
    "    </p>\n",
    "</div>"
   ]
  },
  {
   "cell_type": "code",
   "execution_count": null,
   "metadata": {},
   "outputs": [],
   "source": [
    "# Write your code from here:\n",
    "# Following lines are step-by-step codes used during testing prior to completing the blank coding template"
   ]
  },
  {
   "cell_type": "code",
   "execution_count": 71,
   "metadata": {},
   "outputs": [],
   "source": [
    "loginEmail_outlook(email_info['email'],email_info['password'])\n"
   ]
  },
  {
   "cell_type": "code",
   "execution_count": 72,
   "metadata": {},
   "outputs": [
    {
     "data": {
      "text/plain": [
       "True"
      ]
     },
     "execution_count": 72,
     "metadata": {},
     "output_type": "execute_result"
    }
   ],
   "source": [
    "t.click('//*[@id=\"id__132\"]') # the xpath for the new email button\n",
    "t.wait(2)\n"
   ]
  },
  {
   "cell_type": "code",
   "execution_count": 48,
   "metadata": {},
   "outputs": [],
   "source": [
    "import random"
   ]
  },
  {
   "cell_type": "code",
   "execution_count": 50,
   "metadata": {},
   "outputs": [
    {
     "data": {
      "text/plain": [
       "True"
      ]
     },
     "execution_count": 50,
     "metadata": {},
     "output_type": "execute_result"
    }
   ],
   "source": [
    "to = random.choices(company_emails)\n",
    "subject = 'Job application - cover letter & resume (TagUI)'\n",
    "\n",
    "t.type('//*[@id=\"docking_InitVisiblePart_0\"]/div/div[3]/div[1]/div/div[3]/div/div/div[1]',\" \".join(to))\n",
    "t.wait(2)\n",
    "# t.click('//*[@id=\"TextField521\"]')\n",
    "# t.type('//*[@id=\"TextField521\"]',subject)\n",
    "t.click(\"//input[contains(@class,'ms-TextField-field') and contains(@aria-label, 'subject')]\")\n",
    "t.type(\"//input[contains(@class,'ms-TextField-field') and contains(@aria-label, 'subject')]\",subject)\n",
    "t.wait(2)"
   ]
  },
  {
   "cell_type": "code",
   "execution_count": 52,
   "metadata": {},
   "outputs": [
    {
     "data": {
      "text/plain": [
       "True"
      ]
     },
     "execution_count": 52,
     "metadata": {},
     "output_type": "execute_result"
    }
   ],
   "source": [
    "body = \"Dear Sir/Madam, \\n \\\n",
    "    I am eager to apply for your position. And consider myself a best fit. \\n \\\n",
    "    (insert many nice words of your choice) \\n\\n \\\n",
    "    Warm regards, \\n\" + name\n",
    "\n",
    "t.click('//*[@id=\"editorParent_1\"]/div')\n",
    "t.type('//*[@id=\"editorParent_1\"]/div',body)\n"
   ]
  },
  {
   "cell_type": "code",
   "execution_count": 56,
   "metadata": {},
   "outputs": [],
   "source": [
    "attachments = ['./coverletter/coverleter_'+str('1')+\".pdf\",'./resume/resume.pdf']\n",
    "for file in attachments:\n",
    "    t.upload(\"div>input[type='file']+input\",file)# the css selector of upload files"
   ]
  },
  {
   "cell_type": "code",
   "execution_count": 57,
   "metadata": {},
   "outputs": [
    {
     "data": {
      "text/plain": [
       "True"
      ]
     },
     "execution_count": 57,
     "metadata": {},
     "output_type": "execute_result"
    }
   ],
   "source": [
    "t.click('//*[@id=\"docking_InitVisiblePart_0\"]/div/div[2]/div[1]/div/span/button[1]')\n"
   ]
  },
  {
   "cell_type": "code",
   "execution_count": 75,
   "metadata": {},
   "outputs": [
    {
     "data": {
      "text/plain": [
       "True"
      ]
     },
     "execution_count": 75,
     "metadata": {},
     "output_type": "execute_result"
    }
   ],
   "source": [
    "t.close()"
   ]
  },
  {
   "cell_type": "markdown",
   "metadata": {},
   "source": [
    "---"
   ]
  },
  {
   "cell_type": "code",
   "execution_count": null,
   "metadata": {},
   "outputs": [],
   "source": [
    "# Or use below 'filling the blank' coding template:"
   ]
  },
  {
   "cell_type": "code",
   "execution_count": 74,
   "metadata": {},
   "outputs": [],
   "source": [
    "def sendemail_tagui_outlook(email_account,email_pwd,to,subject,body,attachments):\n",
    "    try:\n",
    "        loginEmail_outlook(email_account,email_pwd)\n",
    "        t.wait(5)\n",
    "\n",
    "        t.click('//*[@id=\"id__132\"]') # the xpath for the new email button\n",
    "        t.wait(2)\n",
    "        t.type('//*[@id=\"docking_InitVisiblePart_0\"]/div/div[3]/div[1]/div/div[3]/div/div/div[1]',\" \".join(to)) # type send to\n",
    "        t.wait(2)\n",
    "#         t.click('//*[@id=\"TextField521\"]') # click subject field\n",
    "#         t.type('//*[@id=\"TextField521\"]',subject)\n",
    "        t.click(\"//input[contains(@class,'ms-TextField-field') and contains(@aria-label, 'subject')]\")\n",
    "        t.type(\"//input[contains(@class,'ms-TextField-field') and contains(@aria-label, 'subject')]\",subject)\n",
    "        t.wait(2)\n",
    "        t.click('//*[@id=\"editorParent_1\"]/div') # click content field\n",
    "        t.type('//*[@id=\"editorParent_1\"]/div',body)\n",
    "        \n",
    "        for file in attachments:\n",
    "            t.upload(\"div>input[type='file']+input\",file)# the css selector of upload files\n",
    "            \n",
    "        t.click('//*[@id=\"docking_InitVisiblePart_0\"]/div/div[2]/div[1]/div/span/button[1]') #click send button\n",
    "        \n",
    "        t.wait(10)\n",
    "    finally:\n",
    "        t.close()"
   ]
  },
  {
   "cell_type": "code",
   "execution_count": 62,
   "metadata": {},
   "outputs": [],
   "source": [
    "cover_letters = [r'C:\\Users\\kenny\\Desktop\\S-IPA-Workshop-master\\workshop2\\Virtual-Assistant-Job\\coverletter\\coverleter_0.pdf']\n",
    "#                 r'C:\\Users\\kenny\\Desktop\\S-IPA-Workshop-master\\workshop2\\Virtual-Assistant-Job\\coverletter\\coverleter_1.pdf',\n",
    "#                 r'C:\\Users\\kenny\\Desktop\\S-IPA-Workshop-master\\workshop2\\Virtual-Assistant-Job\\coverletter\\coverleter_2.pdf',\n",
    "#                 r'C:\\Users\\kenny\\Desktop\\S-IPA-Workshop-master\\workshop2\\Virtual-Assistant-Job\\coverletter\\coverleter_3.pdf',\n",
    "#                 r'C:\\Users\\kenny\\Desktop\\S-IPA-Workshop-master\\workshop2\\Virtual-Assistant-Job\\coverletter\\coverleter_4.pdf',\n",
    "#                 r'C:\\Users\\kenny\\Desktop\\S-IPA-Workshop-master\\workshop2\\Virtual-Assistant-Job\\coverletter\\coverleter_5.pdf']"
   ]
  },
  {
   "cell_type": "code",
   "execution_count": 76,
   "metadata": {},
   "outputs": [],
   "source": [
    "for index,_ in enumerate(cover_letters):\n",
    "    sent_from = email_info['email']\n",
    "    to = random.choices(company_emails)\n",
    "    subject = 'Job application - cover letter & resume (TagUI)'\n",
    "    body = \"Dear Sir/Madam, \\n \\\n",
    "    I am eager to apply for your position. And consider myself a best fit. \\n \\\n",
    "    (insert many nice words of your choice) \\n\\n \\\n",
    "    Warm regards, \\n\" + name\n",
    "    attachments = ['./coverletter/coverleter_'+str(index)+\".pdf\",'./resume/resume.pdf']\n",
    "    sendemail_tagui_outlook(email_info['email'],email_info['password'],to,subject,body,attachments) "
   ]
  },
  {
   "cell_type": "code",
   "execution_count": null,
   "metadata": {},
   "outputs": [],
   "source": []
  },
  {
   "cell_type": "code",
   "execution_count": 77,
   "metadata": {},
   "outputs": [],
   "source": [
    "# Uncommnet below, then press Shift+Enter for solution\n",
    "# codehelper.hint_for_ipa_exercise_two()"
   ]
  },
  {
   "cell_type": "markdown",
   "metadata": {},
   "source": [
    "<div class=\"alert alert-block alert-info\" style=\"margin-top: 20px\">\n",
    "    <a href=\"https://github.com/isa-ipa\">\n",
    "        <img src=\"\" width=\"60\" align=\"right\">\n",
    "     </a>\n",
    "     <h1>\n",
    "         End of Workshop\n",
    "     </h1>\n",
    "</div>"
   ]
  },
  {
   "cell_type": "markdown",
   "metadata": {},
   "source": [
    "---"
   ]
  }
 ],
 "metadata": {
  "kernelspec": {
   "display_name": "Python 3 (ipykernel)",
   "language": "python",
   "name": "python3"
  },
  "language_info": {
   "codemirror_mode": {
    "name": "ipython",
    "version": 3
   },
   "file_extension": ".py",
   "mimetype": "text/x-python",
   "name": "python",
   "nbconvert_exporter": "python",
   "pygments_lexer": "ipython3",
   "version": "3.11.5"
  }
 },
 "nbformat": 4,
 "nbformat_minor": 4
}
