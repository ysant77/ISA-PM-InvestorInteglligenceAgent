{
 "cells": [
  {
   "cell_type": "markdown",
   "metadata": {},
   "source": [
    "# INVESTOR INTELLIGENCE AGENT - COMPANY INFORMATION RETRIEVAL"
   ]
  },
  {
   "cell_type": "markdown",
   "metadata": {},
   "source": [
    "## TASK:\n",
    "\n",
    "1. Retrieve Background of Company\n",
    "2. Retrieve Stock Price of Company (Image?)\n",
    "3. Retrieve Financial Metrics of Company\n",
    "4. Time series analysis (Revenue, profit margins)\n"
   ]
  },
  {
   "cell_type": "code",
   "execution_count": null,
   "metadata": {
    "scrolled": true,
    "tags": []
   },
   "outputs": [],
   "source": [
    "# Please uncomment and press shift+enter to install some requirements\n",
    "# !pip install rpa \n",
    "# !pip install yfinance"
   ]
  },
  {
   "cell_type": "markdown",
   "metadata": {},
   "source": [
    "---"
   ]
  },
  {
   "cell_type": "code",
   "execution_count": null,
   "metadata": {
    "tags": []
   },
   "outputs": [],
   "source": [
    "# import rpa as t for the new vision of TagUI same function just different name\n",
    "import tagui as t\n",
    "import re\n",
    "import yfinance as yf\n",
    "from datetime import datetime\n",
    "import datetime"
   ]
  },
  {
   "cell_type": "code",
   "execution_count": null,
   "metadata": {
    "tags": []
   },
   "outputs": [],
   "source": [
    "t.close()"
   ]
  },
  {
   "cell_type": "code",
   "execution_count": null,
   "metadata": {
    "tags": []
   },
   "outputs": [],
   "source": [
    "# Snap and save Stock Price Chart\n",
    "def chart_snapshot(ticker, chart_duration):\n",
    "\n",
    "    for duration in chart_duration:\n",
    "        t.click('//button[contains(text(), \"' + duration + '\")]') # click duration\n",
    "        formatted_time = datetime.datetime.now().strftime(\"%Y%m%d_%H%M\")\n",
    "        t.snap('//canvas[contains(@aria-label,\"trendArea chart\")]', ticker + '/' + duration + '_chart_' + formatted_time + '.png')\n",
    "\n",
    "    return \n",
    "\n",
    "# # Example usage:\n",
    "# chart_duration = [\"1d\", \"1y\"] # Options of \"1d\", \"5d\", \"1m\", \"6m\", \"YTD\", \"1y\", \"5y\", and \"Max\". Default set to 1 day and 1 year charts\n",
    "# chart_snapshot(chart_duration)"
   ]
  },
  {
   "cell_type": "code",
   "execution_count": null,
   "metadata": {},
   "outputs": [],
   "source": [
    "# Extract Company Information from Yahoo Finance\n",
    "\n",
    "def extract_company_info_yfinance(company, chart_duration):\n",
    "    try:\n",
    "        # Step 1: to access yahoo finance webpage and key in company of interest\n",
    "        t.init(visual_automation = True) # visual automation if keyboard automation required in subsequent code\n",
    "        t.url('https://sg.finance.yahoo.com/') # go to google finance website\n",
    "        t.click('//*[@id=\"yfin-usr-qry\"]') # click on search bar.\n",
    "        t.type('//*[@id=\"yfin-usr-qry\"]',  company+'[enter]') # search for company.\n",
    "        # t.click('//*[contains(@data-id,\"result-quotes-0\")]') # click the top return company. if above enter does not work\n",
    "        \n",
    "        # Step 2: scrape from main summary page\n",
    "        live_price = float(t.read('//*[@id=\"quote-header-info\"]//*[contains(@data-field,\"regularMarketPrice\")]')) # reads live stock exchange price\n",
    "        ticker = t.read('//*[@id=\"quote-header-info\"]//h1').split(\"(\")[1].split(\".\")[0].split(\")\")[0]\n",
    "        stock_market = t.read('//*[@id=\"quote-header-info\"]//div[contains(@class,\"Fz(12px)\")]/span').split(\"-\")[0].split(\" \")[0]\n",
    "        # Split the string based on the word \"Currency\"\n",
    "        split_string = t.read('//*[@id=\"quote-header-info\"]//div[contains(@class,\"Fz(12px)\")]/span').split(\"Currency in \")\n",
    "        currency = split_string[1].strip()  # Remove any leading or trailing spaces\n",
    "        prev_close = t.read('//*[contains(@data-test,\"left-summary-table\")]//table/tbody/tr[1]/td[2]')\n",
    "        open_price = t.read('//*[contains(@data-test,\"left-summary-table\")]//table/tbody/tr[2]/td[2]')\n",
    "        trade_daily_volume = t.read('//*[contains(@data-test,\"left-summary-table\")]//table/tbody/tr[7]/td[2]')\n",
    "        day_price_range = t.read('//*[contains(@data-test,\"left-summary-table\")]//table/tbody/tr[5]/td[2]')\n",
    "        day_low = day_price_range.split(\" - \")[0]\n",
    "        day_high = day_price_range.split(\" - \")[1]\n",
    "        market_cap = t.read('//*[contains(@data-test,\"right-summary-table\")]//table/tbody/tr[1]/td[2]')\n",
    "        pe_ratio_ttm = t.read('//*[contains(@data-test,\"right-summary-table\")]//table/tbody/tr[3]/td[2]')\n",
    "        eps_ttm = t.read('//*[contains(@data-test,\"right-summary-table\")]//table/tbody/tr[4]/td[2]')\n",
    "        chart_snapshot(ticker, chart_duration)\n",
    "        \n",
    "        # Step 3: scrape from Company Profile page\n",
    "        t.click('//*[contains(@data-test,\"COMPANY_PROFILE\")]') # click the company profile tab. \n",
    "        Company_Full = t.read('//div[@id=\"Main\"]//div/h3') # read full name of company. act as confirmation to user's request as the search name used may not be complete\n",
    "        industry = t.read('//*[@id=\"Col1-0-Profile-Proxy\"]//span[contains(@class,\"Fw(600)\")][2]') # read industry of company\n",
    "        employee_count = t.read('//*[@id=\"Col1-0-Profile-Proxy\"]//span[contains(@class,\"Fw(600)\")][3]') # read number of full-time employees of company.\n",
    "        about_company = t.read('//*[@id=\"Col1-0-Profile-Proxy\"]//*[contains(@class,\"quote-sub-section\")]/p') # read company description\n",
    "\n",
    "        # Initialize a list to store top 5 key personnel's data (Name, Title, Pay, Exercised, Year Born, Age)\n",
    "        key_personnel = []\n",
    "        # Define the range for iterating through rows and columns\n",
    "        for i in range(1, 6):  # Rows (personnel 1 to 5)\n",
    "            personnel_data = []\n",
    "            for j in range(1, 6):  # Columns (name, title, pay, exercised, year born)\n",
    "                # Use TagUI to read the content of each cell\n",
    "                cell_content = t.read('//table/tbody/tr[' + str(i) + ']/td[' + str(j) + ']')\n",
    "                personnel_data.append(cell_content)  # Append cell content to personnel_data\n",
    "\n",
    "            # Calculate age based on year born if available\n",
    "            year_born = personnel_data[-1]  # Get the year born from the last column\n",
    "            if not year_born.isdigit() or len(year_born) != 4:\n",
    "                age = \"N/A\"\n",
    "            else:\n",
    "                year_born = int(year_born)\n",
    "                current_year = datetime.datetime.now().year\n",
    "                age = current_year - year_born\n",
    "            # Append age as an additional column after the year born\n",
    "            personnel_data.append(age)\n",
    "\n",
    "            key_personnel.append(personnel_data)  # Append personnel_data to key_personnel\n",
    "\n",
    "        # Step 4: Scrape from Statistics Tab page\n",
    "        t.click('//*[contains(@data-test,\"STATISTICS\")]') # click the statistics tab. \n",
    "        fwd_ann_div_rate = t.read('//tr[td/span[contains(text(), \"Forward annual dividend rate\")]]/td[2]')\n",
    "        fwd_ann_div_yield = t.read('//tr[td/span[contains(text(), \"Forward annual dividend yield\")]]/td[2]')\n",
    "        trail_ann_div_rate = t.read('//tr[td/span[contains(text(), \"Trailing annual dividend rate\")]]/td[2]')\n",
    "        trail_ann_div_yield = t.read('//tr[td/span[contains(text(), \"Trailing annual dividend yield\")]]/td[2]')      \n",
    "    \n",
    "        return (\n",
    "            live_price, stock_market, ticker, currency, prev_close, open_price, trade_daily_volume, day_price_range, \n",
    "            day_low, day_high, market_cap, pe_ratio_ttm, eps_ttm, Company_Full, industry, employee_count, \n",
    "            fwd_ann_div_rate, fwd_ann_div_yield, trail_ann_div_rate, trail_ann_div_yield, about_company, \n",
    "            key_personnel \n",
    "        )\n",
    "    \n",
    "    except Exception as e:\n",
    "        print(f\"Error occurred: {str(e)}\")\n",
    "        return None, None, None, None, None, None"
   ]
  },
  {
   "cell_type": "code",
   "execution_count": null,
   "metadata": {
    "tags": []
   },
   "outputs": [],
   "source": [
    "## Export to Excel as Stock Portfolio\n",
    "import datetime\n",
    "from openpyxl import Workbook, load_workbook\n",
    "\n",
    "# Function to create or load workbook and add data\n",
    "def update_excel(username, company_info):\n",
    "    # Define file path based on username\n",
    "    file_path = f\"{username}_stock_profile.xlsx\"\n",
    "\n",
    "    try:\n",
    "        # Load existing workbook\n",
    "        workbook = load_workbook(file_path)\n",
    "        worksheet = workbook.active\n",
    "    except FileNotFoundError:\n",
    "        # If workbook doesn't exist, create a new one\n",
    "        workbook = Workbook()\n",
    "        worksheet = workbook.active\n",
    "        # Add headers to the first row\n",
    "        header = [\"Date\", \"Live Price\", \"Stock Market\", \"Ticker Symbol\", \"Currency\", \"Previous Close\", \n",
    "                  \"Open Price\", \"Trade Daily Volume\", \"Day Price Range\", \"Day Low\", \"Day High\", \"Market Cap\", \n",
    "                  \"P/E Ratio TTM\", \"EPS TTM\", \"Company Name\", \"Industry\", \"Employee Count\", \n",
    "                  \"Fwd Annual Dividend Rate\", \"Fwd Annual Dividend Yield\", \"Trailing Annual Dividend Rate\", \"Trailing Annual Dividend Yield\",\n",
    "                  \"About Company\"]\n",
    "        # Add headers for key personnel\n",
    "        for i in range(1, 6):\n",
    "            header.extend([f\"Key Personnel {i} Name\", f\"Key Personnel {i} Title\", f\"Key Personnel {i} Pay\",\n",
    "                           f\"Key Personnel {i} Exercised\", f\"Key Personnel {i} Year Born\", f\"Key Personnel {i} Age\"])\n",
    "        worksheet.append(header)\n",
    "\n",
    "    # Append data to the workbook\n",
    "    # row_data = [datetime.datetime.now()] + list(company_info)\n",
    "    # worksheet.append(row_data)\n",
    "    # Flatten the nested list and convert elements to strings\n",
    "    flatten_company_info = []\n",
    "    for item in company_info:\n",
    "        if isinstance(item, list):\n",
    "            flatten_company_info.extend(map(str, item))\n",
    "        else:\n",
    "            flatten_company_info.append(str(item))\n",
    "    # Append flattened data to the workbook\n",
    "    # worksheet.append([datetime.datetime.now()] + flatten_company_info)\n",
    "    row_data = [\n",
    "        datetime.datetime.now(),\n",
    "        *company_info[:21],  # First 20 elements are single-valued\n",
    "    ]\n",
    "    # Append key personnel data\n",
    "    for personnel in company_info[21]:\n",
    "        row_data.extend(personnel)\n",
    "\n",
    "    # Extend row_data with empty strings if less than 5 key personnel are provided\n",
    "    row_data.extend([''] * (30 - len(row_data))) \n",
    "\n",
    "    worksheet.append(row_data)\n",
    "    \n",
    "\n",
    "    # Save the workbook\n",
    "    workbook.save(file_path)\n"
   ]
  },
  {
   "cell_type": "code",
   "execution_count": null,
   "metadata": {
    "tags": []
   },
   "outputs": [],
   "source": [
    "# Example usage:\n",
    "username = \"ky\"  # Define username\n",
    "company = 'google' # User input company of interest\n",
    "chart_duration = [\"1d\", \"1y\"] # set as default. Options of \"1d\", \"5d\", \"1m\", \"6m\", \"YTD\", \"1y\", \"5y\", and \"Max\".\n",
    "\n",
    "company_info = extract_company_info_yfinance(company, chart_duration) # stores extracted information\n",
    "if company_info[0]:  # Check if data is not None\n",
    "    (\n",
    "        live_price, stock_market, ticker_symbol, currency, prev_close, open_price, trade_daily_volume, day_price_range, \n",
    "        day_low, day_high, market_cap, pe_ratio_ttm, eps_ttm, Company_Full, industry, employee_count, about_company, \n",
    "        key_personnel, fwd_ann_div_rate, fwd_ann_div_yield, trail_ann_div_rate, trail_ann_div_yield\n",
    "    ) = company_info\n",
    "    # Process retrieved data\n",
    "else:\n",
    "    print(\"Company information retrieval failed.\")\n",
    "\n",
    "update_excel(username, company_info)"
   ]
  },
  {
   "cell_type": "code",
   "execution_count": null,
   "metadata": {},
   "outputs": [],
   "source": []
  },
  {
   "cell_type": "code",
   "execution_count": null,
   "metadata": {
    "tags": []
   },
   "outputs": [],
   "source": [
    "## Export to Excel as Stock Portfolio\n",
    "import datetime\n",
    "from openpyxl import Workbook, load_workbook\n",
    "\n",
    "# Function to create or load workbook and add data\n",
    "def update_excel(username, company_info):\n",
    "    # Define file path based on username\n",
    "    file_path = f\"{username}_stock_profile.xlsx\"\n",
    "\n",
    "    try:\n",
    "        # Load existing workbook\n",
    "        workbook = load_workbook(file_path)\n",
    "        worksheet = workbook.active\n",
    "    except FileNotFoundError:\n",
    "        # If workbook doesn't exist, create a new one\n",
    "        workbook = Workbook()\n",
    "        worksheet = workbook.active\n",
    "        # Add headers to the first row\n",
    "        worksheet.append([\"Date\", \"Company\", \"Live Price\", \"Stock Market\", \"Ticker Symbol\", \"CEO\", \"Company Description\"])\n",
    "\n",
    "    # Append data to the workbook\n",
    "    row_data = [datetime.datetime.now()] + list(company_info)\n",
    "    worksheet.append(row_data)\n",
    "\n",
    "    # Save the workbook\n",
    "    workbook.save(file_path)"
   ]
  },
  {
   "cell_type": "code",
   "execution_count": null,
   "metadata": {},
   "outputs": [],
   "source": []
  },
  {
   "cell_type": "code",
   "execution_count": null,
   "metadata": {
    "tags": []
   },
   "outputs": [],
   "source": [
    "# # Extract Company Information from Google Finance\n",
    "\n",
    "# def extract_company_info_gfinance(company):\n",
    "#     try:\n",
    "#         t.init(visual_automation = True) # visual automation if keyboard automation required in subsequent code\n",
    "#         t.url('https://www.google.com/finance/?hl=en') # go to google finance website\n",
    "#         t.click('//c-wiz[2]//input[2]') # click on search bar and wait. Did not work when use type directly as first word to be searched is always missing. \n",
    "#         t.wait(0.1) # introduced wait 0.1sec as per above comment to allow time before typing search\n",
    "#         t.type('//c-wiz[2]//input[2]',  company+'[enter]') # search for company. enter does not work somehow\n",
    "#         t.click('//*[@class=\"MkjOTb SAq8ff\"][1]') # click the top return company. \n",
    "\n",
    "#         Company_Full = t.read('//*[contains(@class,\"zzDege\")]') # read full name of company. act as confirmation to user's request as the search name used may not be complete\n",
    "#         live_price = t.read('//*[contains(@class,\"YMlKec fxKbKc\")]') # reads live stock exchange price\n",
    "#         live_price = float(live_price.replace('$', ''))\n",
    "#         Trade = t.read('//div[@class=\"PdOqHc\"]') # reads stock market and ticker symbol used\n",
    "#         stock_market = Trade.split(\" • \")[1] # extracts stock market name\n",
    "#         ticker = Trade.split(\" • \")[0][slice(4,len(Trade.split(\" • \")[0]))] # extracts ticker symbol used\n",
    "#         ceo = t.read('//span[@class=\"w4txWc oJeWuf\"]/div[2]//a[@class=\"tBHE4e\"]') # reads CEO of company\n",
    "#         about_company = t.read('//*[@class=\"bLLb2d\"]')\n",
    "        \n",
    "#         currency = t.read('//*[@class=\"yNnsfe PFjsMe\"]')\n",
    "#         p_e_ratio = t.read('//*[@class=\"gyFHrc\"][6]//*[@class=\"P6K39c\"]')\n",
    "        \n",
    "    \n",
    "#         return Company_Full, live_price, stock_market, ticker, ceo, about_company\n",
    "    \n",
    "#     except Exception as e:\n",
    "#         print(f\"Error occurred: {str(e)}\")\n",
    "#         return None, None, None, None, None, None"
   ]
  },
  {
   "cell_type": "code",
   "execution_count": null,
   "metadata": {},
   "outputs": [],
   "source": [
    "# # Snap and save Stock Price Chart\n",
    "# chart_duration = [\"1day\", \"1year\"] # Options of \"1day\", \"5day\", \"1month\", \"6month\", \"ytd\", \"1year\", \"5year\", and \"max\". Default set to 1 day and 1 year charts\n",
    "# for duration in chart_duration:\n",
    "#     t.click('//*[@id=\"' + duration + 'Tab\"]') # click duration\n",
    "#     t.snap('//*[@class=\"ushogf\"]',ticker_symbol + '/' + duration + '_chart_'+datetime.datetime.now().strftime(\"%Y%m%d_%H%M\")+'.png') # snap  chart\n",
    "\n",
    "# # Working Code derived to click 1 year tab and snap  1 year chart before using array of chart_duration\n",
    "# # t.click('//*[@id=\"1yearTab\"]') # click to display 1 year chart\n",
    "# # t.snap('//*[@class=\"ushogf\"]',ticker_symbol+'/'+'1Y_chart_'+datetime.datetime.now().strftime(\"%Y%m%d_%H%M\")+'.png') # snap 1 year chart\n"
   ]
  }
 ],
 "metadata": {
  "kernelspec": {
   "display_name": "Python 3 (ipykernel)",
   "language": "python",
   "name": "python3"
  },
  "language_info": {
   "codemirror_mode": {
    "name": "ipython",
    "version": 3
   },
   "file_extension": ".py",
   "mimetype": "text/x-python",
   "name": "python",
   "nbconvert_exporter": "python",
   "pygments_lexer": "ipython3",
   "version": "3.11.5"
  }
 },
 "nbformat": 4,
 "nbformat_minor": 4
}
