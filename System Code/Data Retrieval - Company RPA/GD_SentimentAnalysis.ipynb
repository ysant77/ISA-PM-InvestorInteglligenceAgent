{
 "cells": [
  {
   "cell_type": "markdown",
   "id": "144eac50-ea87-479b-b52e-052d3e659ea0",
   "metadata": {},
   "source": [
    "# INVESTOR INTELLIGENCE AGENT - GLASSDOOR SENTIMENT ANALYSIS¶\n",
    "\n",
    "TASK:\n",
    "1. Retrieve overall rating of Company (Ovr Rating, Job Recommendation Rating, CEO Approval Rating)\n",
    "2. Extraction of Top Pros and Cons Reviews\n",
    "3. Search for top N competitors\n",
    "4. Benchmark against Industry Standards / Competitors"
   ]
  },
  {
   "cell_type": "code",
   "execution_count": 1,
   "id": "8a846573-4fad-43b6-9aee-cb3f85352bb9",
   "metadata": {
    "tags": []
   },
   "outputs": [],
   "source": [
    "# import rpa as t for the new vision of TagUI same function just different name\n",
    "import tagui as t\n"
   ]
  },
  {
   "cell_type": "code",
   "execution_count": 2,
   "id": "51ff4a38-8e71-47ee-b487-c631ea8d4dc9",
   "metadata": {
    "tags": []
   },
   "outputs": [
    {
     "name": "stdout",
     "output_type": "stream",
     "text": [
      "[RPA][ERROR] - use init() before using close()\n"
     ]
    },
    {
     "data": {
      "text/plain": [
       "False"
      ]
     },
     "execution_count": 2,
     "metadata": {},
     "output_type": "execute_result"
    }
   ],
   "source": [
    "t.close()"
   ]
  },
  {
   "cell_type": "code",
   "execution_count": 3,
   "id": "d735b4b7-758c-49c0-8ab0-e5a7e0dc61a5",
   "metadata": {},
   "outputs": [],
   "source": [
    "# Get Competitors from Google\n",
    "def scrape_competitors(company):\n",
    "    try:\n",
    "        # Get Competitors from Google\n",
    "        t.init(visual_automation = True) # visual automation if keyboard automation required in subsequent code\n",
    "        t.url('https://www.google.com/') # go to google website\n",
    "        t.type('//*[@name=\"q\"]', 'who are the top 5 company competitors of ' + company + '[enter]')\n",
    "        t.click('//div[contains(@class,\"FPdoLc\")]//input[1]')  # Click the search button\n",
    "\n",
    "        top_competitors = []\n",
    "\n",
    "        # Loop from 1 to 3 inclusive\n",
    "        for i in range(1, 4):\n",
    "            # Construct XPath expressions for top competitors\n",
    "            top_competitors_xpath = '//*[@jsname=\"ibnC6b\"][' + str(i) + ']//div[@data-attrid=\"BreadthFirstSRP\"]'\n",
    "\n",
    "            # Read top competitors using TagUI's t.read() function\n",
    "            top_competitors.append(t.read(top_competitors_xpath))\n",
    "\n",
    "        return top_competitors\n",
    "\n",
    "    except Exception as e:\n",
    "        print(f\"Error occurred: {str(e)}\")\n",
    "        return None"
   ]
  },
  {
   "cell_type": "code",
   "execution_count": 4,
   "id": "0204f0a3-f793-4109-83de-0fe7f59937a6",
   "metadata": {},
   "outputs": [],
   "source": [
    "# Scrape from ratings (Step 2)\n",
    "# This step shall take place after logging in and searched company so that rating is available from searched company\n",
    "def scrape_rating():\n",
    "    try:\n",
    "        company_rating = t.read('//header/span[contains(@class, \"employerOverviewRating\")]/text()')\n",
    "        # print (company_rating)\n",
    "        job_recommendation = t.read('//*[contains(@data-test, \"recommendToFriendRating\")]//*[contains(@class,\"textVal\")]')\n",
    "        # print (job_recommendation)\n",
    "        ceo_approval = t.read('//*[contains(@data-test, \"ceoRating\")]//*[contains(@class,\"textVal\")]')\n",
    "        # print (ceo_approval)     \n",
    "\n",
    "        return company_rating, job_recommendation, ceo_approval\n",
    "\n",
    "    except Exception as e:\n",
    "        print(f\"Error occurred: {str(e)}\")\n",
    "        return None, None, None"
   ]
  },
  {
   "cell_type": "code",
   "execution_count": 5,
   "id": "32dc9151-3e57-45a1-ad34-54facfdb470e",
   "metadata": {},
   "outputs": [],
   "source": [
    "# Scrape Top Review Highlights (qualitative) (Step 3)\n",
    "# This step shall take place after logging in and searched company so that Reviews Tab is available for clicking\n",
    "def scrape_top_reviews():\n",
    "    try:\n",
    "        t.wait(2)\n",
    "        t.click('//*[contains(@data-test, \"nav-reviews\")]') # Click on Reviews Tab\n",
    "        t.wait(5)\n",
    "        t.click('//button[contains(text(), \"Show More Pros and Cons\")]') # click to exapnd Top Reviews Highlights by Sentiment\n",
    "        t.wait(2)\n",
    "\n",
    "        # Below codes were initial code to scrape all pros and cons reviews in single variable. Superseded by following codes to store as lists instead for individual reviews.\n",
    "        # pros_reviews = t.read('//*[@id=\"ReviewHighlightsModule\"]//div[contains(text(),\"Pros\")]/following-sibling::ul') # read all pros reviews\n",
    "        # cons_reviews = t.read('//*[@id=\"ReviewHighlightsModule\"]//div[contains(text(),\"Cons\")]/following-sibling::ul') # read all cons reviews\n",
    "\n",
    "        # Initialize lists to store  headers and descriptions\n",
    "        pros_header = []\n",
    "        pros_description = []\n",
    "        cons_header = []\n",
    "        cons_description = []\n",
    "\n",
    "        # Loop from 1 to 5 inclusive\n",
    "        for i in range(1, 6):\n",
    "            # Construct XPath expressions for cons headers and descriptions\n",
    "            pros_header_xpath = '//*[@id=\"ReviewHighlightsModule\"]//div[contains(text(),\"Pros\")]/following-sibling::ul//li[' + str(i) + ']//a'\n",
    "            pros_description_xpath = '//*[@id=\"ReviewHighlightsModule\"]//div[contains(text(),\"Pros\")]/following-sibling::ul/li[' + str(i) + ']'\n",
    "            cons_header_xpath = '//*[@id=\"ReviewHighlightsModule\"]//div[contains(text(),\"Cons\")]/following-sibling::ul//li[' + str(i) + ']//a'\n",
    "            cons_description_xpath = '//*[@id=\"ReviewHighlightsModule\"]//div[contains(text(),\"Cons\")]/following-sibling::ul/li[' + str(i) + ']'\n",
    "\n",
    "            # Read cons header and description using TagUI's t.read() function\n",
    "            pros_header.append(t.read(pros_header_xpath))\n",
    "            pros_description.append(t.read(pros_description_xpath))\n",
    "            cons_header.append(t.read(cons_header_xpath))\n",
    "            cons_description.append(t.read(cons_description_xpath))\n",
    "    \n",
    "        return pros_header, pros_description, cons_header, cons_description\n",
    "\n",
    "    except Exception as e:\n",
    "        print(f\"Error occurred: {str(e)}\")\n",
    "        return None, None, None, None\n",
    "\n"
   ]
  },
  {
   "cell_type": "code",
   "execution_count": 6,
   "id": "7d37b164-bcc7-4b69-8925-82894a26c95b",
   "metadata": {},
   "outputs": [],
   "source": [
    "# Scrape from Glassdoor - Ratings and Top Review Highlights and Competitors' Ratings\n",
    "def glassdoor_scrape(company):\n",
    "    try:\n",
    "        # Step 0 - search via google for top competitors\n",
    "        top_competitors = scrape_competitors(company) \n",
    "#         print(top_competitors)\n",
    "\n",
    "        # Step 1 - access glassdoor and search company\n",
    "#         t.init(visual_automation = True) # visual automation if keyboard automation required in subsequent code\n",
    "        t.url('https://www.glassdoor.com/') # go to glassdoor website\n",
    "        t.wait(10)\n",
    "        t.type('//*[@id=\"inlineUserEmail\"]',  email +'[enter]') # login with specially created email address for glassdoor access\n",
    "        t.wait(10)\n",
    "        t.type('//*[@id=\"inlineUserPassword\"]',  email_pw +'[enter]') # login with specially created email address for glassdoor access\n",
    "        t.wait(10)\n",
    "        t.click('//*[@id=\"ContentNav\"]//a[contains(text(),\"Companies\")]') # click on Companies tab to search for companies\n",
    "        t.wait(10)\n",
    "        t.type('//*[contains(@placeholder,\"Search for a Company\")]',  company +'[enter]') # search for company\n",
    "        t.click('//*[contains(@data-test,\"company-search-button\")]') # click on search because \"enter\" does not work\n",
    "        t.wait(10)\n",
    "        t.click('//*[@data-serp-pos=\"0\"]//h2/a') # click on top return result\n",
    "\n",
    "        # Step 2 - scrape rating of company\n",
    "        company_rating, job_recommendation, ceo_approval = scrape_rating()\n",
    "#         print(company_rating)\n",
    "#         print(job_recommendation)\n",
    "#         print(ceo_approval)\n",
    "\n",
    "        # Step 3 - Scrape Top Review Highlights\n",
    "        \n",
    "        pros_header, pros_description, cons_header, cons_description = scrape_top_reviews()\n",
    "#         print(pros_header)\n",
    "#         print(pros_description)\n",
    "#         print(cons_header)\n",
    "#         print(cons_description)\n",
    "\n",
    "        \n",
    "        # Step 4 - scrape ratings of top competitors\n",
    "        # Initialize lists to store ratings, job recommendations, and CEO approvals\n",
    "        comp_rating = []\n",
    "        comp_job_rec = []\n",
    "        comp_ceo_approval = []\n",
    "\n",
    "        # Loop from 0 to n exclusive\n",
    "        n = len(top_competitors)\n",
    "        for i in range(0, n):\n",
    "            t.wait(2) # wait to simulate person clicking\n",
    "            t.click('//*[contains(@data-test,\"search-button\")]') # click on search button\n",
    "            t.wait(2) # wait to simulate person clicking\n",
    "            t.click('//*[contains(@data-test,\"clear-button\")]') # click on clear button\n",
    "            t.wait(2) # wait to simulate person clicking\n",
    "            t.type('//*[contains(@data-test,\"search-label\")]', top_competitors[i] + '[enter]')\n",
    "            t.wait(2) # wait to simulate person clicking\n",
    "            t.click('//*[@id=\"SearchKeywordDefaultResults\"]/li[1]') # click on first returned result button\n",
    "            t.wait(2) # wait to simulate person clicking\n",
    "\n",
    "            # Scrape rating, job recommendation, and CEO approval and append to respective lists\n",
    "            rating, job_rec, ceo_approval = scrape_rating()\n",
    "            comp_rating.append(rating)\n",
    "            comp_job_rec.append(job_rec)\n",
    "            comp_ceo_approval.append(ceo_approval)\n",
    "\n",
    "#         print (comp_rating)\n",
    "#         print (comp_job_rec)\n",
    "#         print (comp_ceo_approval)\n",
    "\n",
    "        t.click('//*[contains(@data-test, \"utility-nav-dropdown\")]/button[@aria-label=\"profile\"]')\n",
    "        t.click('//*[@id=\"UtilityNav\"]/div[3]/div/div/ul[1]/li[6]/a[@data-test= \"sign-out\"]')\n",
    "        t.close()\n",
    "\n",
    "        return (\n",
    "            company_rating, job_recommendation, ceo_approval,\n",
    "            pros_header, pros_description, cons_header, cons_description,\n",
    "            comp_rating, comp_job_rec, comp_ceo_approval, top_competitors\n",
    "        )\n",
    "\n",
    "    except Exception as e:\n",
    "        print(f\"Error occurred: {str(e)}\")\n",
    "        return None, None, None, None, None, None, None, None, None, None, None"
   ]
  },
  {
   "cell_type": "code",
   "execution_count": 7,
   "id": "00311eff",
   "metadata": {},
   "outputs": [
    {
     "name": "stdout",
     "output_type": "stream",
     "text": [
      "[RPA][ERROR] - cannot find //header/span[contains(@class, \"employerOverviewRating\")]/text()\n"
     ]
    }
   ],
   "source": [
    "# Example Usage:\n",
    "email = \"i2a.isa.iss@gmail.com\" # for glassdoor access\n",
    "email_pw = \"i2aproject\" # for glassdoor access\n",
    "company = 'apple' # specify company of interest\n",
    "\n",
    "(company_rating, job_recommendation, ceo_approval, pros_header, pros_description, cons_header, cons_description, comp_rating, comp_job_rec, comp_ceo_approval, top_competitors) = glassdoor_scrape(company) \n",
    "\n"
   ]
  },
  {
   "cell_type": "code",
   "execution_count": 22,
   "id": "69a38e18",
   "metadata": {},
   "outputs": [
    {
     "name": "stdout",
     "output_type": "stream",
     "text": [
      "3 number of competitors assessed are: ['Microsoft', 'Samsung', 'Google']\n",
      "apple's ratings ranks 2 out of 4\n",
      "apple's job recommendation rating ranks 3 out of 4\n",
      "apple's ceo approval rating ranks 2 out of 4\n"
     ]
    }
   ],
   "source": [
    "# Comparing against Competitors' Ratings\n",
    "company_rating_rank = 1\n",
    "company_job_rec_rank = 1\n",
    "company_ceo_app_rank = 1\n",
    "n = len(top_competitors)\n",
    "\n",
    "for i in range(0, n):\n",
    "    if company_rating < comp_rating [i]:\n",
    "        company_rating_rank += 1\n",
    "    if job_recommendation < comp_job_rec [i]:\n",
    "        company_job_rec_rank += 1\n",
    "    if ceo_approval < comp_ceo_approval [i]:\n",
    "        company_ceo_app_rank += 1\n",
    "\n",
    "# Output Ranking:\n",
    "print(f\"{n} number of competitors assessed are: {top_competitors}\")\n",
    "print(f\"{company}'s ratings ranks {company_rating_rank} out of {n+1}\")\n",
    "print(f\"{company}'s job recommendation rating ranks {company_job_rec_rank} out of {n+1}\")\n",
    "print(f\"{company}'s ceo approval rating ranks {company_ceo_app_rank} out of {n+1}\")"
   ]
  },
  {
   "cell_type": "code",
   "execution_count": 8,
   "id": "77d29841",
   "metadata": {},
   "outputs": [
    {
     "data": {
      "text/plain": [
       "'4.2'"
      ]
     },
     "execution_count": 8,
     "metadata": {},
     "output_type": "execute_result"
    }
   ],
   "source": [
    "company_rating"
   ]
  },
  {
   "cell_type": "code",
   "execution_count": 9,
   "id": "a7997fd4",
   "metadata": {},
   "outputs": [
    {
     "data": {
      "text/plain": [
       "'80'"
      ]
     },
     "execution_count": 9,
     "metadata": {},
     "output_type": "execute_result"
    }
   ],
   "source": [
    "job_recommendation"
   ]
  },
  {
   "cell_type": "code",
   "execution_count": 10,
   "id": "94b9f28a",
   "metadata": {},
   "outputs": [
    {
     "data": {
      "text/plain": [
       "'78'"
      ]
     },
     "execution_count": 10,
     "metadata": {},
     "output_type": "execute_result"
    }
   ],
   "source": [
    "ceo_approval"
   ]
  },
  {
   "cell_type": "code",
   "execution_count": 11,
   "id": "ee9a01bb",
   "metadata": {},
   "outputs": [
    {
     "data": {
      "text/plain": [
       "['Great benefits',\n",
       " 'great and the people',\n",
       " 'pay is good',\n",
       " 'Great culture',\n",
       " 'team is great']"
      ]
     },
     "execution_count": 11,
     "metadata": {},
     "output_type": "execute_result"
    }
   ],
   "source": [
    "pros_header"
   ]
  },
  {
   "cell_type": "code",
   "execution_count": 12,
   "id": "6d50ff25",
   "metadata": {},
   "outputs": [
    {
     "data": {
      "text/plain": [
       "['\"Great benefits and a nice feeling to be apart of a the worlds most valuable brand.\"\\xa0(in 4986 reviews)',\n",
       " '\"Working from home is great and the people you work with and meet are the best.\"\\xa0(in 2542 reviews)',\n",
       " '\"pay is good but expect to work a lot if you want to clime the latter up\"\\xa0(in 2247 reviews)',\n",
       " '\"Great culture and ability to work your way up if you are motivated or interested in a career at Apple.\"\\xa0(in 1042 reviews)',\n",
       " '\"The team is great and you bound with peers that make your days easier and manage the overall stress\"\\xa0(in 721 reviews)']"
      ]
     },
     "execution_count": 12,
     "metadata": {},
     "output_type": "execute_result"
    }
   ],
   "source": [
    "pros_description"
   ]
  },
  {
   "cell_type": "code",
   "execution_count": 13,
   "id": "e43daa65",
   "metadata": {},
   "outputs": [
    {
     "data": {
      "text/plain": [
       "['No work life balance',\n",
       " 'Poor management',\n",
       " 'Long hours',\n",
       " 'bad managers',\n",
       " 'time off']"
      ]
     },
     "execution_count": 13,
     "metadata": {},
     "output_type": "execute_result"
    }
   ],
   "source": [
    "cons_header"
   ]
  },
  {
   "cell_type": "code",
   "execution_count": 14,
   "id": "58f29617",
   "metadata": {},
   "outputs": [
    {
     "data": {
      "text/plain": [
       "['\"No work life balance (made you feel bad about taking time off for mental health reasons)\"\\xa0(in 1408 reviews)',\n",
       " '\"Poor management and tolls\"\\xa0(in 1269 reviews)',\n",
       " '\"Long hours and have to take calls back to back Didn\\'t enjoy the job at all.\"\\xa0(in 838 reviews)',\n",
       " '\"But know that there is 0 accountability for bad managers and so there are toxic teams that go undetected.\"\\xa0(in 832 reviews)',\n",
       " '\"They are very hard on you about taking time off and want you to always be at everything.\"\\xa0(in 240 reviews)']"
      ]
     },
     "execution_count": 14,
     "metadata": {},
     "output_type": "execute_result"
    }
   ],
   "source": [
    "cons_description"
   ]
  },
  {
   "cell_type": "code",
   "execution_count": 15,
   "id": "bda55599",
   "metadata": {},
   "outputs": [
    {
     "data": {
      "text/plain": [
       "['', '3.8', '4.4']"
      ]
     },
     "execution_count": 15,
     "metadata": {},
     "output_type": "execute_result"
    }
   ],
   "source": [
    "comp_rating"
   ]
  },
  {
   "cell_type": "code",
   "execution_count": 16,
   "id": "04cd05bc",
   "metadata": {},
   "outputs": [
    {
     "data": {
      "text/plain": [
       "['86', '67', '85']"
      ]
     },
     "execution_count": 16,
     "metadata": {},
     "output_type": "execute_result"
    }
   ],
   "source": [
    "comp_job_rec"
   ]
  },
  {
   "cell_type": "code",
   "execution_count": 17,
   "id": "eae5029c",
   "metadata": {},
   "outputs": [
    {
     "data": {
      "text/plain": [
       "['91', '72', '78']"
      ]
     },
     "execution_count": 17,
     "metadata": {},
     "output_type": "execute_result"
    }
   ],
   "source": [
    "comp_ceo_approval"
   ]
  },
  {
   "cell_type": "code",
   "execution_count": 18,
   "id": "47e3d8e9",
   "metadata": {},
   "outputs": [
    {
     "data": {
      "text/plain": [
       "['Microsoft', 'Samsung', 'Google']"
      ]
     },
     "execution_count": 18,
     "metadata": {},
     "output_type": "execute_result"
    }
   ],
   "source": [
    "top_competitors"
   ]
  }
 ],
 "metadata": {
  "kernelspec": {
   "display_name": "Python 3 (ipykernel)",
   "language": "python",
   "name": "python3"
  },
  "language_info": {
   "codemirror_mode": {
    "name": "ipython",
    "version": 3
   },
   "file_extension": ".py",
   "mimetype": "text/x-python",
   "name": "python",
   "nbconvert_exporter": "python",
   "pygments_lexer": "ipython3",
   "version": "3.11.5"
  }
 },
 "nbformat": 4,
 "nbformat_minor": 5
}
